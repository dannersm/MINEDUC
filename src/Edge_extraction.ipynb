{
 "cells": [
  {
   "cell_type": "code",
   "execution_count": 4,
   "id": "representative-incident",
   "metadata": {},
   "outputs": [],
   "source": [
    "import pandas as pd\n",
    "import numpy as np\n",
    "import os\n",
    "\n",
    "from tqdm import tqdm\n",
    "\n",
    "from transcription2edge_file import export_edges"
   ]
  },
  {
   "cell_type": "markdown",
   "id": "guilty-medicaid",
   "metadata": {},
   "source": [
    "# PAC"
   ]
  },
  {
   "cell_type": "code",
   "execution_count": 7,
   "id": "female-present",
   "metadata": {},
   "outputs": [
    {
     "name": "stderr",
     "output_type": "stream",
     "text": [
      "100%|██████████████████████████████████████████████████████████████████████████████████| 55/55 [57:07<00:00, 62.33s/it]\n"
     ]
    }
   ],
   "source": [
    "folder = '../data/pac'\n",
    "df = pd.read_excel(os.path.join(folder, 'metadata', 'pac.xlsx')).dropna(axis=1)\n",
    "\n",
    "keyword_dict={}\n",
    "with open(os.path.join(folder, 'keywords', 'PAC.txt'), 'r', encoding='utf-8') as file:\n",
    "    for line in file:\n",
    "        aux = line.split(',')\n",
    "        keyword_dict[aux[0]] = [w.strip() for w in aux[1:]]\n",
    "keywords = [w for l in keyword_dict.values() for w in l]\n",
    "\n",
    "# Carpeta de transcripciones y outputs\n",
    "t_folder = os.path.join(folder, 'transcripciones')\n",
    "out_folder = os.path.join(folder, 'edges')\n",
    "\n",
    "if not os.path.exists(out_folder):\n",
    "    os.makedirs(out_folder)\n",
    "    \n",
    "for i in tqdm(df.timestamp):\n",
    "    t_path = os.path.join(t_folder, f'{i}.txt')\n",
    "    if os.path.exists(t_path):\n",
    "        export_edges(t_path, os.path.join(out_folder, f'{i}.txt'), keywords, stemmed=False)\n",
    "    else:\n",
    "        print (f'Transcripcion {i} no encontrada')"
   ]
  },
  {
   "cell_type": "markdown",
   "id": "realistic-liability",
   "metadata": {},
   "source": [
    "# DEC"
   ]
  },
  {
   "cell_type": "code",
   "execution_count": 10,
   "id": "consolidated-sustainability",
   "metadata": {},
   "outputs": [
    {
     "name": "stderr",
     "output_type": "stream",
     "text": [
      " 81%|██████████████████████████████████████████████████████████████████▍               | 17/21 [24:27<05:54, 88.56s/it]"
     ]
    },
    {
     "name": "stdout",
     "output_type": "stream",
     "text": [
      "Transcripcion 1574952810388 no encontrada\n"
     ]
    },
    {
     "name": "stderr",
     "output_type": "stream",
     "text": [
      "100%|██████████████████████████████████████████████████████████████████████████████████| 21/21 [27:16<00:00, 77.92s/it]\n"
     ]
    }
   ],
   "source": [
    "folder = '../data/dec'\n",
    "df = pd.read_excel(os.path.join(folder, 'metadata', 'dec.xlsx')).dropna(axis=1)\n",
    "\n",
    "keyword_dict={}\n",
    "with open(os.path.join(folder, 'keywords', 'DEC.txt'), 'r', encoding='utf-8') as file:\n",
    "    for line in file:\n",
    "        aux = line.split(',')\n",
    "        keyword_dict[aux[0]] = [w.strip() for w in aux[1:]]\n",
    "keywords = [w for l in keyword_dict.values() for w in l]\n",
    "\n",
    "# Carpeta de transcripciones y outputs\n",
    "t_folder = os.path.join(folder, 'transcripciones')\n",
    "out_folder = os.path.join(folder, 'edges')\n",
    "\n",
    "if not os.path.exists(out_folder):\n",
    "    os.makedirs(out_folder)\n",
    "    \n",
    "for i in tqdm(df.timestamp):\n",
    "    t_path = os.path.join(t_folder, f'{i}.txt')\n",
    "    if os.path.exists(t_path):\n",
    "        export_edges(t_path, os.path.join(out_folder, f'{i}.txt'), keywords, stemmed=False)\n",
    "    else:\n",
    "        print (f'Transcripcion {i} no encontrada')"
   ]
  },
  {
   "cell_type": "markdown",
   "id": "ideal-keyboard",
   "metadata": {},
   "source": [
    "# DEM"
   ]
  },
  {
   "cell_type": "code",
   "execution_count": 12,
   "id": "matched-latino",
   "metadata": {},
   "outputs": [
    {
     "name": "stderr",
     "output_type": "stream",
     "text": [
      "100%|█████████████████████████████████████████████████████████████████████████████████| 27/27 [51:02<00:00, 113.42s/it]\n"
     ]
    }
   ],
   "source": [
    "folder = '../data/dem'\n",
    "df = pd.read_excel(os.path.join(folder, 'metadata', 'dem.xlsx')).dropna(axis=1)\n",
    "\n",
    "keyword_dict={}\n",
    "with open(os.path.join(folder, 'keywords', 'DEM.txt'), 'r', encoding='utf-8') as file:\n",
    "    for line in file:\n",
    "        aux = line.split(',')\n",
    "        keyword_dict[aux[0]] = [w.strip() for w in aux[1:]]\n",
    "keywords = [w for l in keyword_dict.values() for w in l]\n",
    "\n",
    "# Carpeta de transcripciones y outputs\n",
    "t_folder = os.path.join(folder, 'transcripciones')\n",
    "out_folder = os.path.join(folder, 'edges')\n",
    "\n",
    "if not os.path.exists(out_folder):\n",
    "    os.makedirs(out_folder)\n",
    "    \n",
    "for i in tqdm(df.timestamp):\n",
    "    t_path = os.path.join(t_folder, f'{i}.txt')\n",
    "    if os.path.exists(t_path):\n",
    "        export_edges(t_path, os.path.join(out_folder, f'{i}.txt'), keywords, stemmed=False)\n",
    "    else:\n",
    "        print (f'Transcripcion {i} no encontrada')"
   ]
  },
  {
   "cell_type": "markdown",
   "id": "saving-number",
   "metadata": {},
   "source": [
    "# LEN"
   ]
  },
  {
   "cell_type": "code",
   "execution_count": 13,
   "id": "scientific-article",
   "metadata": {},
   "outputs": [
    {
     "name": "stderr",
     "output_type": "stream",
     "text": [
      "100%|█████████████████████████████████████████████████████████████████████████████████| 14/14 [26:22<00:00, 113.02s/it]"
     ]
    },
    {
     "name": "stdout",
     "output_type": "stream",
     "text": [
      "Transcripcion LiceoNacionalMaipu_temp no encontrada\n"
     ]
    },
    {
     "name": "stderr",
     "output_type": "stream",
     "text": [
      "\n"
     ]
    }
   ],
   "source": [
    "folder = '../data/len'\n",
    "df = pd.read_excel(os.path.join(folder, 'metadata', 'len.xlsx')).dropna(axis=1)\n",
    "\n",
    "keyword_dict={}\n",
    "with open(os.path.join(folder, 'keywords', 'LEN.txt'), 'r', encoding='utf-8') as file:\n",
    "    for line in file:\n",
    "        aux = line.split(',')\n",
    "        keyword_dict[aux[0]] = [w.strip() for w in aux[1:]]\n",
    "keywords = [w for l in keyword_dict.values() for w in l]\n",
    "\n",
    "# Carpeta de transcripciones y outputs\n",
    "t_folder = os.path.join(folder, 'transcripciones')\n",
    "out_folder = os.path.join(folder, 'edges')\n",
    "\n",
    "if not os.path.exists(out_folder):\n",
    "    os.makedirs(out_folder)\n",
    "    \n",
    "for i in tqdm(df.timestamp):\n",
    "    t_path = os.path.join(t_folder, f'{i}.txt')\n",
    "    if os.path.exists(t_path):\n",
    "        export_edges(t_path, os.path.join(out_folder, f'{i}.txt'), keywords, stemmed=False)\n",
    "    else:\n",
    "        print (f'Transcripcion {i} no encontrada')"
   ]
  }
 ],
 "metadata": {
  "kernelspec": {
   "display_name": "Python 3",
   "language": "python",
   "name": "python3"
  },
  "language_info": {
   "codemirror_mode": {
    "name": "ipython",
    "version": 3
   },
   "file_extension": ".py",
   "mimetype": "text/x-python",
   "name": "python",
   "nbconvert_exporter": "python",
   "pygments_lexer": "ipython3",
   "version": "3.8.5"
  }
 },
 "nbformat": 4,
 "nbformat_minor": 5
}
